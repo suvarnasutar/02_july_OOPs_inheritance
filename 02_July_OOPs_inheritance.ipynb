{
 "cells": [
  {
   "cell_type": "code",
   "execution_count": null,
   "id": "7790e054",
   "metadata": {},
   "outputs": [],
   "source": [
    "##########  Que 1  ##########\n",
    "1. Explain what inheritance is in object-oriented programming and why it is used."
   ]
  },
  {
   "cell_type": "code",
   "execution_count": null,
   "id": "a09472e7",
   "metadata": {},
   "outputs": [],
   "source": [
    "Answer:\n",
    "  inheritance in OOPs is very important concept.Inheritance means one(child) class can inherit the properties and behaviours of \n",
    "other(parent) class.It plays a vital role in building class hierarchies and creating relationship between classes.\n",
    "\n",
    "Inheritance is used for code reusability.By inheriting from a parent class,you can reuse the methods and attributes already \n",
    "defined in that class"
   ]
  },
  {
   "cell_type": "code",
   "execution_count": null,
   "id": "f01f7840",
   "metadata": {},
   "outputs": [],
   "source": []
  },
  {
   "cell_type": "code",
   "execution_count": null,
   "id": "97dff297",
   "metadata": {},
   "outputs": [],
   "source": [
    "##########  Que 2  ##########\n",
    "2. Discuss the concept of single inheritance and multiple inheritance, highlighting their\n",
    "differences and advantages."
   ]
  },
  {
   "cell_type": "code",
   "execution_count": null,
   "id": "0562e4a7",
   "metadata": {},
   "outputs": [],
   "source": [
    "Answer:\n",
    "    Inheritance is a method which can derive or consruct new classes from the existing class.\n",
    "    1.In single inheritance,one base class is constructed and it is inherited by only one derived class.\n",
    "Example: \n",
    "    We have two classes , a \"BankAccount class\"  and \"SavingAccount class\" .here SavingAccount class inherit the features of \n",
    "BankAccount class and will become a base/parent/super class for SavingAccount class,  and saving account class will be a derived\n",
    "class.   \n",
    "    \n",
    "    \n",
    "    2.In multiple inheritance we have more than two base classes which are combinely inherited by only one derived class.\n",
    "Example:\n",
    "    suppose two base classes \"Bike\" and \"car\". one derived class \"vehicle\".Here vehicle class can inherit the properties of Bike\n",
    "and car class.  \n",
    "\n",
    "Difference and advantages:\n",
    "    1.Single inheritance is one derived class having a single base class. On the contrary, multiple inheritance has two or more \n",
    "than two base classes, but single derived class.\n",
    "    2.Due to less overhead in single inheritance it has less runtime than multiple inheritance.\n",
    "    3.Overhead issues are lesser in case of single inheritance. However, in the case of multiple inheritance the object \n",
    "construction or destruction invokes the constructors and destructor of the parent class in the class hierarchy, which increases\n",
    "the overhead.\n",
    "    "
   ]
  },
  {
   "cell_type": "code",
   "execution_count": null,
   "id": "151a703b",
   "metadata": {},
   "outputs": [],
   "source": []
  },
  {
   "cell_type": "code",
   "execution_count": null,
   "id": "7814b7ee",
   "metadata": {},
   "outputs": [],
   "source": [
    "##########  Que 3  ##########\n",
    "3. Explain the terms \"base class\" and \"derived class\" in the context of inheritance."
   ]
  },
  {
   "cell_type": "code",
   "execution_count": null,
   "id": "8f6ac2d7",
   "metadata": {},
   "outputs": [],
   "source": [
    "Answer:\n",
    "    Base class in inheritance is a parent class.Whatever the attributes and methods/ constructor defined within base class, it \n",
    "can be inherited by other(child) classes defined in it.\n",
    "    Derived class in inheritance is a child class , can aquires the properties of base class\n",
    "Example:\n",
    "   "
   ]
  },
  {
   "cell_type": "code",
   "execution_count": 47,
   "id": "98eeced9",
   "metadata": {},
   "outputs": [],
   "source": [
    "class Animal:                     # base class\n",
    "    def __init__(self,name):\n",
    "        self.name=name\n",
    "        \n",
    "class Dog(Animal):              # derived class\n",
    "    def __init__(self,name,breed):\n",
    "        super(). __init__(name)    # inherite name from parent class(Animal)\n",
    "        self.breed=breed\n",
    "    def Sound(self):\n",
    "        print(f\"The dog named {self.name} is of breed {self.breed} barks loudly\")\n",
    "        "
   ]
  },
  {
   "cell_type": "code",
   "execution_count": 48,
   "id": "c89f383d",
   "metadata": {},
   "outputs": [],
   "source": [
    "a1=Dog(\"moti\",\"german sheferd\")"
   ]
  },
  {
   "cell_type": "code",
   "execution_count": 49,
   "id": "0333ba01",
   "metadata": {},
   "outputs": [
    {
     "name": "stdout",
     "output_type": "stream",
     "text": [
      "The dog named moti is of breed german sheferd barks loudly\n"
     ]
    }
   ],
   "source": [
    "a1.Sound()"
   ]
  },
  {
   "cell_type": "code",
   "execution_count": null,
   "id": "1ac1b503",
   "metadata": {},
   "outputs": [],
   "source": []
  },
  {
   "cell_type": "code",
   "execution_count": null,
   "id": "567dbe12",
   "metadata": {},
   "outputs": [],
   "source": [
    "##########  Que 4  ##########\n",
    "4. What is the significance of the \"protected\" access modifier in inheritance? How does\n",
    "it differ from \"private\" and \"public\" modifiers?"
   ]
  },
  {
   "cell_type": "code",
   "execution_count": null,
   "id": "7a00abce",
   "metadata": {},
   "outputs": [],
   "source": [
    "Answer:\n",
    "    Private,Public and Protected keywords are access modifiers.\n",
    "    \n",
    "Protected access modifiers allow the data members to be accessed by class package,subclass of the same package.Data members of \n",
    "a class are declared protected by adding a single underscore ‘_’ symbol before the data member of that class.\n",
    "\n",
    "All the variables and methods (member functions) in python are by default public.Any instance variable in a class followed by \n",
    "the 'self' keyword ie.self.var_name are public accessed. \n",
    "\n",
    "Private members of a class(variables or methods) are those members which are only accessible inside the class.We cannot use \n",
    "private members outside of class.\n",
    "It is also not possible to inherit the private members of any class (parent class) to derived\n",
    "class (child class). Any instance variable in a class followed by self keyword and the variable name starting with double \n",
    "underscore'__' ie. self.__varName are the private accessed member of a class.\n",
    "\n",
    "Example of each access modifier:"
   ]
  },
  {
   "cell_type": "code",
   "execution_count": 1,
   "id": "476301b8",
   "metadata": {},
   "outputs": [],
   "source": [
    "#defining class Employee\n",
    "class Employee:\n",
    "    #constructor is defined\n",
    "    def __init__(self, name, age, salary):\n",
    "        self.age = age             # public Attribute\n",
    "        self._name = name          # protected Attribute \n",
    "        self.__salary = salary     # private Attribute\n",
    "\n",
    "    def _function1(self):            # protected method\n",
    "        pass\n",
    " \n",
    "    def __function1(self):           # private method\n",
    "        pass\n",
    "\n",
    "# object creation \n",
    "obj = Employee(\"vivekanand\",21,45000)"
   ]
  },
  {
   "cell_type": "code",
   "execution_count": null,
   "id": "373a1f74",
   "metadata": {},
   "outputs": [],
   "source": []
  },
  {
   "cell_type": "code",
   "execution_count": null,
   "id": "b49b23db",
   "metadata": {},
   "outputs": [],
   "source": [
    "##########  Que 5  ##########\n",
    "5. What is the purpose of the \"super\" keyword in inheritance? Provide an example."
   ]
  },
  {
   "cell_type": "code",
   "execution_count": null,
   "id": "97f82466",
   "metadata": {},
   "outputs": [],
   "source": [
    "The super() function is used to give access to methods and properties of a parent or sibling class\n",
    "The super() function in Python implements code reusability and modularity as there is no need for us to rewrite the whole \n",
    "function again and again.\n",
    "Example:"
   ]
  },
  {
   "cell_type": "code",
   "execution_count": 6,
   "id": "75695b07",
   "metadata": {},
   "outputs": [],
   "source": [
    "class Fruit:\n",
    "    def __init__(self,name,color):\n",
    "        self.name=name\n",
    "        self.color=color\n",
    "    def Display(self):\n",
    "         print(f\"The fruit {self.name} has color {self.color}\")\n",
    "# Class Orange inherits Fruit\n",
    "class Orange(Fruit):\n",
    "    def __init__(self,name,color,taste):\n",
    "        super().__init__(name,color)   # super() function access the attributes of Fruit class\n",
    "        self.taste=taste\n",
    "    def display(self):\n",
    "        super().Display()\n",
    "        print(f\" and has {self.taste} taste\")"
   ]
  },
  {
   "cell_type": "code",
   "execution_count": 7,
   "id": "0265d0e1",
   "metadata": {},
   "outputs": [],
   "source": [
    "f1=Orange(\"Orange\",\"orange\",\"Sour\") "
   ]
  },
  {
   "cell_type": "code",
   "execution_count": 8,
   "id": "f12566fa",
   "metadata": {},
   "outputs": [
    {
     "name": "stdout",
     "output_type": "stream",
     "text": [
      "The fruit Orange has color orange\n",
      " and has Sour taste\n"
     ]
    }
   ],
   "source": [
    "f1.display()"
   ]
  },
  {
   "cell_type": "code",
   "execution_count": null,
   "id": "de22c384",
   "metadata": {},
   "outputs": [],
   "source": []
  },
  {
   "cell_type": "code",
   "execution_count": null,
   "id": "ec7dfd7d",
   "metadata": {},
   "outputs": [],
   "source": [
    "##########  Que 6  ##########\n",
    "6. Create a base class called \"Vehicle\" with attributes like \"name\", \"model\", and \"year\".\n",
    "Then, create a derived class called \"Car\" that inherits from \"Vehicle\" and adds an\n",
    "attribute called \"fuel_type\". Implement appropriate methods in both classes."
   ]
  },
  {
   "cell_type": "code",
   "execution_count": 51,
   "id": "08822cfa",
   "metadata": {},
   "outputs": [],
   "source": [
    "class Vehicle:\n",
    "    def __init__(self,name,model,year):\n",
    "        self.name=name\n",
    "        self.model=model\n",
    "        self.year=year\n",
    "    def display_info(self):\n",
    "        print(f\"The vehicle named {self.name} of model {self.model} ,{self.year}, have \")\n",
    "        \n",
    "class Car(Vehicle):\n",
    "    def __init__(self,name,model,year,fuel_type):\n",
    "        super(). __init__(name,model,year)\n",
    "        self.fuel_type=fuel_type\n",
    "    def display(self):\n",
    "        super().display_info()\n",
    "        print(f\"Fuel type is {self.fuel_type}\")"
   ]
  },
  {
   "cell_type": "code",
   "execution_count": 52,
   "id": "347f5a3b",
   "metadata": {},
   "outputs": [],
   "source": [
    "car1=Car(\"Mercedes_Benz\",\"A-Class\",2022,\"Petrol\")"
   ]
  },
  {
   "cell_type": "code",
   "execution_count": 53,
   "id": "128cadb9",
   "metadata": {},
   "outputs": [
    {
     "name": "stdout",
     "output_type": "stream",
     "text": [
      "The vehicle named Mercedes_Benz of model A-Class ,2022, have \n",
      "Fuel type is Petrol\n"
     ]
    }
   ],
   "source": [
    "car1.display()"
   ]
  },
  {
   "cell_type": "code",
   "execution_count": null,
   "id": "5bf72253",
   "metadata": {},
   "outputs": [],
   "source": []
  },
  {
   "cell_type": "code",
   "execution_count": null,
   "id": "e9c4c510",
   "metadata": {},
   "outputs": [],
   "source": [
    "##########  Que 7  ##########\n",
    "7. Create a base class called \"Employee\" with attributes like \"name\" and \"salary.\"\n",
    "Derive two classes, \"Manager\" and \"Developer,\" from \"Employee.\" Add an additional\n",
    "attribute called \"department\" for the \"Manager\" class and \"programming_language\"\n",
    "for the \"Developer\" class."
   ]
  },
  {
   "cell_type": "code",
   "execution_count": 54,
   "id": "25cdbe24",
   "metadata": {},
   "outputs": [],
   "source": [
    "class Employee:\n",
    "    def __init__(self,name,salary):\n",
    "        self.name=name\n",
    "        self.salary=salary\n",
    "        \n",
    "    def Display_info(self):\n",
    "        print(f\"The employee name is {self.name} , salary is {self.salary}\")\n",
    "              \n",
    "class Manager(Employee):  \n",
    "    def __init__(self,name,salary,department): \n",
    "        super().__init__(name,salary) \n",
    "        self.department=department\n",
    "        \n",
    "    def display_info1(self):\n",
    "            super().Display_info()\n",
    "            print(f\"The employee {self.name} is in {self.department} department\")\n",
    "              \n",
    "class developer(Employee):  \n",
    "    def __init__(self,name,salary,programming_language): \n",
    "        super().__init__(name,salary) \n",
    "        self.programming_language=programming_language\n",
    "    def display_info2(self):\n",
    "            super().Display_info()\n",
    "            print(f\"The employee {self.name} is developer of {self.programming_language} programming language\")\n",
    "              "
   ]
  },
  {
   "cell_type": "code",
   "execution_count": 55,
   "id": "e2418863",
   "metadata": {},
   "outputs": [
    {
     "name": "stdout",
     "output_type": "stream",
     "text": [
      "The employee name is Vinayak , salary is 100000\n",
      "The employee Vinayak is in Computer Science department\n"
     ]
    }
   ],
   "source": [
    "M1=Manager(\"Vinayak\",100000,\"Computer Science\")\n",
    "M1.display_info1()"
   ]
  },
  {
   "cell_type": "code",
   "execution_count": 56,
   "id": "7ffb5f44",
   "metadata": {},
   "outputs": [],
   "source": [
    "D1=developer(\"Suvarna\",40000,\"Python\")"
   ]
  },
  {
   "cell_type": "code",
   "execution_count": 57,
   "id": "c2ffb573",
   "metadata": {},
   "outputs": [
    {
     "name": "stdout",
     "output_type": "stream",
     "text": [
      "The employee name is Suvarna , salary is 40000\n",
      "The employee Suvarna is developer of Python programming language\n"
     ]
    }
   ],
   "source": [
    "D1.display_info2()"
   ]
  },
  {
   "cell_type": "code",
   "execution_count": null,
   "id": "23d4f7f2",
   "metadata": {},
   "outputs": [],
   "source": []
  },
  {
   "cell_type": "code",
   "execution_count": null,
   "id": "674462cd",
   "metadata": {},
   "outputs": [],
   "source": [
    "##########  Que 8  ##########\n",
    "8. Design a base class called \"Shape\" with attributes like \"colour\" and \"border_width.\"\n",
    "Create derived classes, \"Rectangle\" and \"Circle,\" that inherit from \"Shape\" and add\n",
    "specific attributes like \"length\" and \"width\" for the \"Rectangle\" class and \"radius\" for\n",
    "the \"Circle\" class."
   ]
  },
  {
   "cell_type": "code",
   "execution_count": 221,
   "id": "dcfcd33c",
   "metadata": {},
   "outputs": [],
   "source": [
    "class Shape:\n",
    "    def __init__(self,color,border_width):\n",
    "        self.color=color\n",
    "        self.border_width=border_width\n",
    "        \n",
    "    def Show_info(self):\n",
    "        print(f\"color {self.color} and border width is {self.border_width}\")\n",
    "              \n",
    "class Rectangle(Shape):\n",
    "    def __init__(self,color,border_width,length,breadth):\n",
    "        super().__init__(color,border_width)\n",
    "        self.length=length\n",
    "        self.breadth=breadth\n",
    "    \n",
    "    def display1(self):  \n",
    "        print(f\"The Rectangle with length {self.length} and breadth {self.breadth} has\")  \n",
    "        super().Show_info()\n",
    "        \n",
    "class Circle(Shape):\n",
    "    def __init__(self,color,border_width,radious):\n",
    "        super().__init__(color,border_width)\n",
    "        self.radious=radious\n",
    "    \n",
    "    def display2(self):  \n",
    "        print(f\"The Circle with radious {self.radious} has\")  \n",
    "        super().Show_info()\n",
    "           "
   ]
  },
  {
   "cell_type": "code",
   "execution_count": 222,
   "id": "ef291f56",
   "metadata": {},
   "outputs": [],
   "source": [
    "R1=Rectangle(\"Red\",\"2\",\"6\",\"4\")"
   ]
  },
  {
   "cell_type": "code",
   "execution_count": 223,
   "id": "d55b0c5d",
   "metadata": {},
   "outputs": [
    {
     "name": "stdout",
     "output_type": "stream",
     "text": [
      "The Rectangle with length 6 and breadth 4 has\n",
      "color Red and border width is 2\n"
     ]
    }
   ],
   "source": [
    "R1.display1()"
   ]
  },
  {
   "cell_type": "code",
   "execution_count": 224,
   "id": "bb122a70",
   "metadata": {},
   "outputs": [],
   "source": [
    "C1=Circle(\"Blue\",\"1\",\"5\")"
   ]
  },
  {
   "cell_type": "code",
   "execution_count": 225,
   "id": "c6b090a0",
   "metadata": {},
   "outputs": [
    {
     "name": "stdout",
     "output_type": "stream",
     "text": [
      "The Circle with radious 5 has\n",
      "color Blue and border width is 1\n"
     ]
    }
   ],
   "source": [
    "C1.display2()"
   ]
  },
  {
   "cell_type": "code",
   "execution_count": null,
   "id": "d90d9da7",
   "metadata": {},
   "outputs": [],
   "source": []
  },
  {
   "cell_type": "code",
   "execution_count": null,
   "id": "78f1088e",
   "metadata": {},
   "outputs": [],
   "source": [
    "##########  Que 9  ##########\n",
    "9. Create a base class called \"Device\" with attributes like \"brand\" and \"model.\" Derive\n",
    "two classes, \"Phone\" and \"Tablet,\" from \"Device.\" Add specific attributes like\n",
    "\"screen_size\" for the \"Phone\" class and \"battery_capacity\" for the \"Tablet\" class."
   ]
  },
  {
   "cell_type": "code",
   "execution_count": 231,
   "id": "a04e2cb0",
   "metadata": {},
   "outputs": [],
   "source": [
    "class Device:\n",
    "    def __init__(self,brand,model):\n",
    "        self.brand=brand\n",
    "        self.model=model\n",
    "        \n",
    "    def Show_info(self):\n",
    "        print(f\"Has brand {self.brand} and model {self.model}  \")\n",
    "              \n",
    "class Phone(Device):\n",
    "    def __init__(self,brand,model,screen_size):\n",
    "        super().__init__(brand,model)\n",
    "        self.screen_size=screen_size\n",
    "    \n",
    "    def display1(self):  \n",
    "        print(f\"A mobile with screen_size {self.screen_size}\")  \n",
    "        super().Show_info()\n",
    "        \n",
    "class Tablet(Device):\n",
    "    def __init__(self,brand,model,battery_capacity):\n",
    "        super().__init__(brand,model)\n",
    "        self.battery_capacity=battery_capacity\n",
    "    \n",
    "    def display2(self):  \n",
    "        print(f\"A tablet with battery capacity {self.battery_capacity}\")  \n",
    "        super().Show_info()\n",
    "           "
   ]
  },
  {
   "cell_type": "code",
   "execution_count": 232,
   "id": "5cc63cb6",
   "metadata": {},
   "outputs": [],
   "source": [
    "mobile=Phone(\"Samsung\",\"M31\",\"10.5\")"
   ]
  },
  {
   "cell_type": "code",
   "execution_count": 237,
   "id": "465c7ecf",
   "metadata": {},
   "outputs": [
    {
     "name": "stdout",
     "output_type": "stream",
     "text": [
      "A mobile with screen_size 10.5\n",
      "Has brand Samsung and model M31  \n"
     ]
    }
   ],
   "source": [
    "mobile.display1()"
   ]
  },
  {
   "cell_type": "code",
   "execution_count": 238,
   "id": "f1092104",
   "metadata": {},
   "outputs": [],
   "source": [
    "tab=Tablet(\"Samsung Galaxy Tab\",\"A 10.0\",\"7300 mAh\")"
   ]
  },
  {
   "cell_type": "code",
   "execution_count": 239,
   "id": "01148221",
   "metadata": {},
   "outputs": [
    {
     "name": "stdout",
     "output_type": "stream",
     "text": [
      "A tablet with battery capacity 7300 mAh\n",
      "Has brand Samsung Galaxy Tab and model A 10.0  \n"
     ]
    }
   ],
   "source": [
    "tab.display2()"
   ]
  },
  {
   "cell_type": "code",
   "execution_count": null,
   "id": "7afa8ee2",
   "metadata": {},
   "outputs": [],
   "source": []
  },
  {
   "cell_type": "code",
   "execution_count": null,
   "id": "7831832f",
   "metadata": {},
   "outputs": [],
   "source": [
    "##########  Que 10  ##########\n",
    "10. Create a base class called \"BankAccount\" with attributes like \"account_number\" and\n",
    "\"balance.\" Derive two classes, \"SavingsAccount\" and \"CheckingAccount,\" from\n",
    "\"BankAccount.\" Add specific methods like \"calculate_interest\" for the\n",
    "\"SavingsAccount\" class and \"deduct_fees\" for the \"CheckingAccount\" class."
   ]
  },
  {
   "cell_type": "code",
   "execution_count": 58,
   "id": "5ce7ad53",
   "metadata": {},
   "outputs": [],
   "source": [
    "class BankAccount:        #base class\n",
    "    def __init__(self,account_number,balance):      #constructor calling\n",
    "        self.account_number=account_number\n",
    "        self.balance=balance\n",
    "    def Show_info(self):            #base method\n",
    "        print(f\"Account number is: {self.account_number} \")\n",
    "        print(f\"Balance is : {self.balance} Rs.\")\n",
    "              \n",
    "class SavingsAccount(BankAccount):   #child class\n",
    "    def __init__(self,account_number,balance,Interest_rate,time_period):\n",
    "        super().__init__(account_number,balance)    # inheriting attributes\n",
    "        self.Interest_rate=Interest_rate\n",
    "        self.time_period=time_period\n",
    "    \n",
    "    def calculate_interest(self):\n",
    "        simple_interest = ( self.balance * self.Interest_rate * self.time_period)/100\n",
    "        \n",
    "        super().Show_info()  #inheriting method of base class\n",
    "        print(f\"Interest rate : {self.Interest_rate} %\")\n",
    "        print(f\"Time_period : {self.time_period} year\")\n",
    "        print(f\"Simple Interest :\", simple_interest,\" Rs.\")\n",
    "    \n",
    "class CheckingAccount(BankAccount):\n",
    "    def __init__(self,account_number,balance,deduct_ammount):\n",
    "        super().__init__(account_number,balance)\n",
    "        self.deduct_ammount=deduct_ammount\n",
    "    \n",
    "    def deduction(self):\n",
    "        deduction_fees = (self.balance) - (self.deduct_ammount)\n",
    "        super().Show_info()\n",
    "        print(f\"Balance after deduction is :\" ,deduction_fees)  \n",
    "     \n",
    "           "
   ]
  },
  {
   "cell_type": "code",
   "execution_count": 59,
   "id": "180e9ca1",
   "metadata": {},
   "outputs": [],
   "source": [
    "#creating object for SavingAccount class\n",
    "SA=SavingsAccount(\"123\",200000,15,2)   "
   ]
  },
  {
   "cell_type": "code",
   "execution_count": 60,
   "id": "addf6f59",
   "metadata": {},
   "outputs": [
    {
     "name": "stdout",
     "output_type": "stream",
     "text": [
      "Account number is: 123 \n",
      "Balance is : 200000 Rs.\n",
      "Interest rate : 15 %\n",
      "Time_period : 2 year\n",
      "Simple Interest : 60000.0  Rs.\n"
     ]
    }
   ],
   "source": [
    "SA.calculate_interest()"
   ]
  },
  {
   "cell_type": "code",
   "execution_count": 61,
   "id": "18b1747a",
   "metadata": {},
   "outputs": [
    {
     "name": "stdout",
     "output_type": "stream",
     "text": [
      "Account number is: 123 \n",
      "Balance is : 40000 Rs.\n",
      "Balance after deduction is : 35000\n"
     ]
    }
   ],
   "source": [
    "CA=CheckingAccount(\"123\",40000,5000)\n",
    "CA.deduction()"
   ]
  },
  {
   "cell_type": "code",
   "execution_count": null,
   "id": "075275a4",
   "metadata": {},
   "outputs": [],
   "source": []
  },
  {
   "cell_type": "code",
   "execution_count": null,
   "id": "033bb2de",
   "metadata": {},
   "outputs": [],
   "source": []
  }
 ],
 "metadata": {
  "kernelspec": {
   "display_name": "Python 3 (ipykernel)",
   "language": "python",
   "name": "python3"
  },
  "language_info": {
   "codemirror_mode": {
    "name": "ipython",
    "version": 3
   },
   "file_extension": ".py",
   "mimetype": "text/x-python",
   "name": "python",
   "nbconvert_exporter": "python",
   "pygments_lexer": "ipython3",
   "version": "3.11.3"
  }
 },
 "nbformat": 4,
 "nbformat_minor": 5
}
